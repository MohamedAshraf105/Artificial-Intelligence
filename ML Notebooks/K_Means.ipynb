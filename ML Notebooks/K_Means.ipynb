{
 "cells": [
  {
   "cell_type": "code",
   "execution_count": 1,
   "id": "4ae2efd4",
   "metadata": {},
   "outputs": [],
   "source": [
    "import pandas as pd\n",
    "import numpy as np\n",
    "import matplotlib.pyplot as plt\n",
    "from sklearn.cluster import KMeans\n"
   ]
  },
  {
   "cell_type": "code",
   "execution_count": 2,
   "id": "5557201d",
   "metadata": {},
   "outputs": [
    {
     "data": {
      "text/plain": [
       "array([13,  3,  7,  9, 15, 19,  1, 16,  3, 15,  1, 17,  2,  5,  3, 18,  8,\n",
       "        7,  2, 15,  8, 12,  8,  1, 13,  9,  4, 12,  4,  6,  7, 13, 15,  9,\n",
       "        2, 10,  6, 14, 19,  1, 17,  8,  7, 13, 18,  1, 15, 16, 10,  5, 14,\n",
       "        7, 17, 17,  6,  5,  8, 10,  7,  8,  3,  4, 15, 19,  5, 15, 13,  7,\n",
       "       11, 19,  3,  5,  7, 16,  4,  4,  5, 13, 14,  8, 13,  3, 11,  6, 16,\n",
       "       13, 17,  3,  9, 17, 19, 11, 16, 13, 18, 16,  6, 12, 14, 13])"
      ]
     },
     "execution_count": 2,
     "metadata": {},
     "output_type": "execute_result"
    }
   ],
   "source": [
    "# Generate rondom 100 x integer values\n",
    "\n",
    "x= np.random.randint(1,20,100)\n",
    "x"
   ]
  },
  {
   "cell_type": "code",
   "execution_count": 3,
   "id": "46155b86",
   "metadata": {},
   "outputs": [
    {
     "data": {
      "text/plain": [
       "array([ 8, 17,  6, 18,  9, 14, 12,  1,  5, 18,  5,  9,  5, 11, 13, 16,  4,\n",
       "        4, 15,  8, 11, 19, 12, 17,  3, 18, 16, 19,  2,  4, 16, 18, 12,  9,\n",
       "        3, 14,  8,  2, 19,  5,  8, 11,  6,  1,  7, 10, 10, 13,  3,  3, 13,\n",
       "       14, 14, 15, 12, 11, 11, 11, 13,  4,  9, 17, 18, 17, 12, 13, 14,  2,\n",
       "       13,  3, 12,  1, 18,  8, 13,  2,  4, 14,  6, 14, 16, 19, 14, 14,  9,\n",
       "       10, 16, 10, 12,  8, 11,  7, 15,  3,  4, 11,  9, 13,  3, 11])"
      ]
     },
     "execution_count": 3,
     "metadata": {},
     "output_type": "execute_result"
    }
   ],
   "source": [
    "# Generate rondom 100 y integer values\n",
    "\n",
    "y= np.random.randint(1,20,100)\n",
    "y"
   ]
  },
  {
   "cell_type": "code",
   "execution_count": 4,
   "id": "4ef04f9d",
   "metadata": {},
   "outputs": [
    {
     "name": "stdout",
     "output_type": "stream",
     "text": [
      "[(13, 8), (3, 17), (7, 6), (9, 18), (15, 9), (19, 14), (1, 12), (16, 1), (3, 5), (15, 18), (1, 5), (17, 9), (2, 5), (5, 11), (3, 13), (18, 16), (8, 4), (7, 4), (2, 15), (15, 8), (8, 11), (12, 19), (8, 12), (1, 17), (13, 3), (9, 18), (4, 16), (12, 19), (4, 2), (6, 4), (7, 16), (13, 18), (15, 12), (9, 9), (2, 3), (10, 14), (6, 8), (14, 2), (19, 19), (1, 5), (17, 8), (8, 11), (7, 6), (13, 1), (18, 7), (1, 10), (15, 10), (16, 13), (10, 3), (5, 3), (14, 13), (7, 14), (17, 14), (17, 15), (6, 12), (5, 11), (8, 11), (10, 11), (7, 13), (8, 4), (3, 9), (4, 17), (15, 18), (19, 17), (5, 12), (15, 13), (13, 14), (7, 2), (11, 13), (19, 3), (3, 12), (5, 1), (7, 18), (16, 8), (4, 13), (4, 2), (5, 4), (13, 14), (14, 6), (8, 14), (13, 16), (3, 19), (11, 14), (6, 14), (16, 9), (13, 10), (17, 16), (3, 10), (9, 12), (17, 8), (19, 11), (11, 7), (16, 15), (13, 3), (18, 4), (16, 11), (6, 9), (12, 13), (14, 3), (13, 11)]\n"
     ]
    }
   ],
   "source": [
    "#create 100 (x,y) points\n",
    "\n",
    "points = list(zip(x, y))\n",
    "print(points)\n"
   ]
  },
  {
   "cell_type": "code",
   "execution_count": 5,
   "id": "7596794a",
   "metadata": {},
   "outputs": [
    {
     "data": {
      "text/plain": [
       "KMeans(n_clusters=3)"
      ]
     },
     "execution_count": 5,
     "metadata": {},
     "output_type": "execute_result"
    }
   ],
   "source": [
    "# For k=3, run k means algorithm with 3 clusters\n",
    "\n",
    "kmeans = KMeans(n_clusters=3)\n",
    "kmeans.fit(points)"
   ]
  },
  {
   "cell_type": "code",
   "execution_count": 6,
   "id": "1b241c1d",
   "metadata": {},
   "outputs": [
    {
     "data": {
      "text/plain": [
       "array([0, 2, 1, 2, 0, 0, 2, 1, 1, 0, 1, 0, 1, 2, 2, 0, 1, 1, 2, 0, 2, 0,\n",
       "       2, 2, 1, 2, 2, 0, 1, 1, 2, 0, 0, 1, 1, 2, 1, 1, 0, 1, 0, 2, 1, 1,\n",
       "       0, 2, 0, 0, 1, 1, 0, 2, 0, 0, 2, 2, 2, 2, 2, 1, 2, 2, 0, 0, 2, 0,\n",
       "       0, 1, 0, 0, 2, 1, 2, 0, 2, 1, 1, 0, 0, 2, 0, 2, 0, 2, 0, 0, 0, 2,\n",
       "       2, 0, 0, 1, 0, 1, 0, 0, 2, 0, 1, 0])"
      ]
     },
     "execution_count": 6,
     "metadata": {},
     "output_type": "execute_result"
    }
   ],
   "source": [
    "kmeans.labels_"
   ]
  },
  {
   "cell_type": "code",
   "execution_count": 7,
   "id": "036c1c86",
   "metadata": {},
   "outputs": [
    {
     "data": {
      "image/png": "[encoded data removed]",
      "text/plain": [
       "<Figure size 432x288 with 1 Axes>"
      ]
     },
     "metadata": {
      "needs_background": "light"
     },
     "output_type": "display_data"
    }
   ],
   "source": [
    "#Show plot of points with each cluster marked by a different color\n",
    "\n",
    "plt.scatter(x, y, c=kmeans.labels_)\n",
    "plt.show()"
   ]
  },
  {
   "cell_type": "code",
   "execution_count": 8,
   "id": "d58e02c6",
   "metadata": {},
   "outputs": [
    {
     "data": {
      "text/plain": [
       "array([[15.325     , 12.325     ],\n",
       "       [ 7.44444444,  3.88888889],\n",
       "       [ 5.54545455, 13.39393939]])"
      ]
     },
     "execution_count": 8,
     "metadata": {},
     "output_type": "execute_result"
    }
   ],
   "source": [
    "#find centers of the clusters\n",
    "\n",
    "kmeans.cluster_centers_"
   ]
  },
  {
   "cell_type": "code",
   "execution_count": 11,
   "id": "5f89dfea",
   "metadata": {},
   "outputs": [
    {
     "data": {
      "text/plain": [
       "array([1])"
      ]
     },
     "execution_count": 11,
     "metadata": {},
     "output_type": "execute_result"
    }
   ],
   "source": [
    "#predict new point belong to which cluster \n",
    "\n",
    "newpoint = np.array([2.5,4.0])\n",
    "\n",
    "newpoint = newpoint.reshape(1, -1)\n",
    "\n",
    "kmeans.predict(newpoint)"
   ]
  }
 ],
 "metadata": {
  "kernelspec": {
   "display_name": "Python 3 (ipykernel)",
   "language": "python",
   "name": "python3"
  },
  "language_info": {
   "codemirror_mode": {
    "name": "ipython",
    "version": 3
   },
   "file_extension": ".py",
   "mimetype": "text/x-python",
   "name": "python",
   "nbconvert_exporter": "python",
   "pygments_lexer": "ipython3",
   "version": "3.8.12"
  }
 },
 "nbformat": 4,
 "nbformat_minor": 5
}
