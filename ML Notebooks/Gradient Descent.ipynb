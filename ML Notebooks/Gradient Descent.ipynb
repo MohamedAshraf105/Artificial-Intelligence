{
 "cells": [
  {
   "cell_type": "code",
   "execution_count": 17,
   "id": "63fb8dc8",
   "metadata": {},
   "outputs": [],
   "source": [
    "import pandas as pd"
   ]
  },
  {
   "cell_type": "code",
   "execution_count": 18,
   "id": "b5521129",
   "metadata": {},
   "outputs": [],
   "source": [
    "data = pd.read_csv('studentsdata.csv')"
   ]
  },
  {
   "cell_type": "code",
   "execution_count": 19,
   "id": "3a9f4791",
   "metadata": {},
   "outputs": [
    {
     "data": {
      "text/html": [
       "<div>\n",
       "<style scoped>\n",
       "    .dataframe tbody tr th:only-of-type {\n",
       "        vertical-align: middle;\n",
       "    }\n",
       "\n",
       "    .dataframe tbody tr th {\n",
       "        vertical-align: top;\n",
       "    }\n",
       "\n",
       "    .dataframe thead th {\n",
       "        text-align: right;\n",
       "    }\n",
       "</style>\n",
       "<table border=\"1\" class=\"dataframe\">\n",
       "  <thead>\n",
       "    <tr style=\"text-align: right;\">\n",
       "      <th></th>\n",
       "      <th>Hours</th>\n",
       "      <th>Scores</th>\n",
       "    </tr>\n",
       "  </thead>\n",
       "  <tbody>\n",
       "    <tr>\n",
       "      <th>0</th>\n",
       "      <td>2.5</td>\n",
       "      <td>21</td>\n",
       "    </tr>\n",
       "    <tr>\n",
       "      <th>1</th>\n",
       "      <td>5.1</td>\n",
       "      <td>47</td>\n",
       "    </tr>\n",
       "    <tr>\n",
       "      <th>2</th>\n",
       "      <td>3.2</td>\n",
       "      <td>27</td>\n",
       "    </tr>\n",
       "    <tr>\n",
       "      <th>3</th>\n",
       "      <td>8.5</td>\n",
       "      <td>75</td>\n",
       "    </tr>\n",
       "    <tr>\n",
       "      <th>4</th>\n",
       "      <td>3.5</td>\n",
       "      <td>30</td>\n",
       "    </tr>\n",
       "  </tbody>\n",
       "</table>\n",
       "</div>"
      ],
      "text/plain": [
       "   Hours  Scores\n",
       "0    2.5      21\n",
       "1    5.1      47\n",
       "2    3.2      27\n",
       "3    8.5      75\n",
       "4    3.5      30"
      ]
     },
     "execution_count": 19,
     "metadata": {},
     "output_type": "execute_result"
    }
   ],
   "source": [
    "data.head() "
   ]
  },
  {
   "cell_type": "code",
   "execution_count": 20,
   "id": "ddb74f5b",
   "metadata": {},
   "outputs": [],
   "source": [
    "x=data['Hours'].values.reshape(-1, 1)\n",
    "y=data['Scores'].values.reshape(-1, 1)"
   ]
  },
  {
   "cell_type": "code",
   "execution_count": 21,
   "id": "d504c61e",
   "metadata": {},
   "outputs": [],
   "source": [
    "def update_w_and_b(x, y, w, b, alpha):\n",
    "    dl_dw = 0.0\n",
    "    dl_db = 0.0\n",
    "    N = len(x)\n",
    "\n",
    "    for i in range(N):\n",
    "        dl_dw += -2*x[i]*(y[i] - (w*x[i] + b))\n",
    "        dl_db += -2*(y[i] - (w*x[i] + b))\n",
    "\n",
    "# update w and b\n",
    "    w = w - (1/float(N))*dl_dw*alpha\n",
    "    b = b - (1/float(N))*dl_db*alpha\n",
    "\n",
    "    return w, b"
   ]
  },
  {
   "cell_type": "code",
   "execution_count": 22,
   "id": "0ea99dea",
   "metadata": {},
   "outputs": [],
   "source": [
    "def avg_loss(x, y, w, b):\n",
    "    N = len(x)\n",
    "    total_error = 0.0\n",
    "    \n",
    "    for i in range(N):\n",
    "        total_error += (y[i] - (w*x[i] + b))**2\n",
    "    \n",
    "    return total_error / float(N)"
   ]
  },
  {
   "cell_type": "code",
   "execution_count": 23,
   "id": "847ec7fc",
   "metadata": {},
   "outputs": [],
   "source": [
    "def train(x, y, w, b, alpha, epochs):\n",
    "    for e in range(epochs):\n",
    "        w, b = update_w_and_b(x, y, w, b, alpha)\n",
    "\n",
    "# log the progress\n",
    "        if e % 400 == 0:\n",
    "            print(\"epoch:\", e, \"loss: \", avg_loss(x, y, w, b))\n",
    "        \n",
    "    return w, b"
   ]
  },
  {
   "cell_type": "code",
   "execution_count": 24,
   "id": "1944e9e1",
   "metadata": {},
   "outputs": [],
   "source": [
    "def predict(x, w, b):\n",
    "    \n",
    "    return w*x + b"
   ]
  },
  {
   "cell_type": "code",
   "execution_count": 25,
   "id": "e5a4fb9c",
   "metadata": {},
   "outputs": [
    {
     "name": "stdout",
     "output_type": "stream",
     "text": [
      "epoch: 0 loss:  [2862.60169041]\n",
      "epoch: 400 loss:  [28.99512117]\n",
      "epoch: 800 loss:  [28.96552398]\n",
      "epoch: 1200 loss:  [28.94372098]\n"
     ]
    }
   ],
   "source": [
    "#adjust weights and bias on 1500 epoch\n",
    "\n",
    "w, b = train(x, y, 0.0, 0.0, 0.001, 1500)"
   ]
  },
  {
   "cell_type": "code",
   "execution_count": 28,
   "id": "f031cfc2",
   "metadata": {},
   "outputs": [
    {
     "name": "stdout",
     "output_type": "stream",
     "text": [
      "[90.69121927]\n"
     ]
    }
   ],
   "source": [
    "#predict score if study hours is 9 hours\n",
    "x_new = 9.0\n",
    "\n",
    "y_new = predict(x_new, w, b)\n",
    "\n",
    "print(y_new)"
   ]
  }
 ],
 "metadata": {
  "kernelspec": {
   "display_name": "Python 3 (ipykernel)",
   "language": "python",
   "name": "python3"
  },
  "language_info": {
   "codemirror_mode": {
    "name": "ipython",
    "version": 3
   },
   "file_extension": ".py",
   "mimetype": "text/x-python",
   "name": "python",
   "nbconvert_exporter": "python",
   "pygments_lexer": "ipython3",
   "version": "3.8.12"
  }
 },
 "nbformat": 4,
 "nbformat_minor": 5
}
