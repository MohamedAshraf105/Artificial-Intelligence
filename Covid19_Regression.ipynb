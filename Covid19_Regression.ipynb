{
 "cells": [
  {
   "cell_type": "code",
   "execution_count": 23,
   "id": "0c336644",
   "metadata": {},
   "outputs": [],
   "source": [
    "import pandas as pd\n",
    "import numpy as np\n",
    "import matplotlib.pyplot as plt\n",
    "\n",
    "%matplotlib inline"
   ]
  },
  {
   "cell_type": "code",
   "execution_count": 59,
   "id": "bc398aeb",
   "metadata": {},
   "outputs": [
    {
     "name": "stdout",
     "output_type": "stream",
     "text": [
      "Index(['OBJECTID', 'GEOID', 'GEO', 'GEOName', 'RptDt', 'Date', 'NEG',\n",
      "       'NEG_NEW', 'NEG_7DAYAVG', 'POS_CP',\n",
      "       ...\n",
      "       'IC_Y_40_49_CP', 'IC_Y_50_59_CP', 'IC_Y_60_69_CP', 'IC_Y_70_79_CP',\n",
      "       'IC_Y_80_89_CP', 'IC_Y_90_CP', 'TESTS_POS_CONF', 'TESTS_POS_CONF_NEW',\n",
      "       'TESTS_POS_CONF_7DAYAVG', 'PercentNAATPos'],\n",
      "      dtype='object', length=129)\n"
     ]
    },
    {
     "data": {
      "text/html": [
       "<div>\n",
       "<style scoped>\n",
       "    .dataframe tbody tr th:only-of-type {\n",
       "        vertical-align: middle;\n",
       "    }\n",
       "\n",
       "    .dataframe tbody tr th {\n",
       "        vertical-align: top;\n",
       "    }\n",
       "\n",
       "    .dataframe thead th {\n",
       "        text-align: right;\n",
       "    }\n",
       "</style>\n",
       "<table border=\"1\" class=\"dataframe\">\n",
       "  <thead>\n",
       "    <tr style=\"text-align: right;\">\n",
       "      <th></th>\n",
       "      <th>GEOName</th>\n",
       "      <th>Date</th>\n",
       "      <th>POS_7DAYAVG_CP</th>\n",
       "      <th>DTH_NEW_CP</th>\n",
       "    </tr>\n",
       "  </thead>\n",
       "  <tbody>\n",
       "    <tr>\n",
       "      <th>0</th>\n",
       "      <td>Barron</td>\n",
       "      <td>2020-01-22</td>\n",
       "      <td>0.00</td>\n",
       "      <td>0</td>\n",
       "    </tr>\n",
       "    <tr>\n",
       "      <th>1</th>\n",
       "      <td>Calumet</td>\n",
       "      <td>2020-01-22</td>\n",
       "      <td>0.00</td>\n",
       "      <td>0</td>\n",
       "    </tr>\n",
       "    <tr>\n",
       "      <th>2</th>\n",
       "      <td>Chippewa</td>\n",
       "      <td>2020-01-22</td>\n",
       "      <td>0.00</td>\n",
       "      <td>0</td>\n",
       "    </tr>\n",
       "    <tr>\n",
       "      <th>3</th>\n",
       "      <td>Dunn</td>\n",
       "      <td>2020-01-22</td>\n",
       "      <td>0.00</td>\n",
       "      <td>0</td>\n",
       "    </tr>\n",
       "    <tr>\n",
       "      <th>4</th>\n",
       "      <td>Eau Claire</td>\n",
       "      <td>2020-01-22</td>\n",
       "      <td>0.00</td>\n",
       "      <td>0</td>\n",
       "    </tr>\n",
       "    <tr>\n",
       "      <th>...</th>\n",
       "      <td>...</td>\n",
       "      <td>...</td>\n",
       "      <td>...</td>\n",
       "      <td>...</td>\n",
       "    </tr>\n",
       "    <tr>\n",
       "      <th>71059</th>\n",
       "      <td>Racine</td>\n",
       "      <td>2022-10-04</td>\n",
       "      <td>33.86</td>\n",
       "      <td>0</td>\n",
       "    </tr>\n",
       "    <tr>\n",
       "      <th>71060</th>\n",
       "      <td>Sawyer</td>\n",
       "      <td>2022-10-04</td>\n",
       "      <td>2.57</td>\n",
       "      <td>0</td>\n",
       "    </tr>\n",
       "    <tr>\n",
       "      <th>71061</th>\n",
       "      <td>Richland</td>\n",
       "      <td>2022-10-04</td>\n",
       "      <td>1.57</td>\n",
       "      <td>0</td>\n",
       "    </tr>\n",
       "    <tr>\n",
       "      <th>71062</th>\n",
       "      <td>Winnebago</td>\n",
       "      <td>2022-10-04</td>\n",
       "      <td>28.29</td>\n",
       "      <td>0</td>\n",
       "    </tr>\n",
       "    <tr>\n",
       "      <th>71063</th>\n",
       "      <td>Washington</td>\n",
       "      <td>2022-10-04</td>\n",
       "      <td>21.14</td>\n",
       "      <td>0</td>\n",
       "    </tr>\n",
       "  </tbody>\n",
       "</table>\n",
       "<p>71064 rows × 4 columns</p>\n",
       "</div>"
      ],
      "text/plain": [
       "          GEOName        Date  POS_7DAYAVG_CP  DTH_NEW_CP\n",
       "0          Barron  2020-01-22            0.00           0\n",
       "1         Calumet  2020-01-22            0.00           0\n",
       "2        Chippewa  2020-01-22            0.00           0\n",
       "3            Dunn  2020-01-22            0.00           0\n",
       "4      Eau Claire  2020-01-22            0.00           0\n",
       "...           ...         ...             ...         ...\n",
       "71059      Racine  2022-10-04           33.86           0\n",
       "71060      Sawyer  2022-10-04            2.57           0\n",
       "71061    Richland  2022-10-04            1.57           0\n",
       "71062   Winnebago  2022-10-04           28.29           0\n",
       "71063  Washington  2022-10-04           21.14           0\n",
       "\n",
       "[71064 rows x 4 columns]"
      ]
     },
     "execution_count": 59,
     "metadata": {},
     "output_type": "execute_result"
    }
   ],
   "source": [
    "df = pd.read_csv(\"COVID19-Historical-V2-CNTY.csv\")\n",
    "print(df.columns)\n",
    "df=df[[\"GEOName\", \"Date\", \"POS_7DAYAVG_CP\",\"DTH_NEW_CP\"]]\n",
    "df=df.dropna()\n",
    "df[\"Date\"] = pd.to_datetime(df[\"Date\"]).dt.date\n",
    "df = df.replace(-999,0)\n",
    "df"
   ]
  },
  {
   "cell_type": "code",
   "execution_count": 60,
   "id": "84b86d78",
   "metadata": {},
   "outputs": [],
   "source": [
    "#create new column with date after two weeks \n",
    "\n",
    "deaths=df[[\"GEOName\", \"Date\", \"DTH_NEW_CP\"]].copy()\n",
    "deaths[\"Date\"] = deaths[\"Date\"] - pd.Timedelta(days=14)\n",
    "deaths = deaths.set_index(deaths[\"GEOName\"] + \"_\" + deaths[\"Date\"].astype(str))"
   ]
  },
  {
   "cell_type": "code",
   "execution_count": 68,
   "id": "5c26c173",
   "metadata": {},
   "outputs": [
    {
     "data": {
      "text/html": [
       "<div>\n",
       "<style scoped>\n",
       "    .dataframe tbody tr th:only-of-type {\n",
       "        vertical-align: middle;\n",
       "    }\n",
       "\n",
       "    .dataframe tbody tr th {\n",
       "        vertical-align: top;\n",
       "    }\n",
       "\n",
       "    .dataframe thead th {\n",
       "        text-align: right;\n",
       "    }\n",
       "</style>\n",
       "<table border=\"1\" class=\"dataframe\">\n",
       "  <thead>\n",
       "    <tr style=\"text-align: right;\">\n",
       "      <th></th>\n",
       "      <th>GEOName</th>\n",
       "      <th>Date</th>\n",
       "      <th>POS_7DAYAVG_CP</th>\n",
       "      <th>DTH_NEW_CP</th>\n",
       "      <th>DTH_NEW_2WK</th>\n",
       "    </tr>\n",
       "  </thead>\n",
       "  <tbody>\n",
       "    <tr>\n",
       "      <th>Barron_2020-01-22</th>\n",
       "      <td>Barron</td>\n",
       "      <td>2020-01-22</td>\n",
       "      <td>0.0</td>\n",
       "      <td>0</td>\n",
       "      <td>0.0</td>\n",
       "    </tr>\n",
       "    <tr>\n",
       "      <th>Calumet_2020-01-22</th>\n",
       "      <td>Calumet</td>\n",
       "      <td>2020-01-22</td>\n",
       "      <td>0.0</td>\n",
       "      <td>0</td>\n",
       "      <td>0.0</td>\n",
       "    </tr>\n",
       "    <tr>\n",
       "      <th>Chippewa_2020-01-22</th>\n",
       "      <td>Chippewa</td>\n",
       "      <td>2020-01-22</td>\n",
       "      <td>0.0</td>\n",
       "      <td>0</td>\n",
       "      <td>0.0</td>\n",
       "    </tr>\n",
       "    <tr>\n",
       "      <th>Dunn_2020-01-22</th>\n",
       "      <td>Dunn</td>\n",
       "      <td>2020-01-22</td>\n",
       "      <td>0.0</td>\n",
       "      <td>0</td>\n",
       "      <td>0.0</td>\n",
       "    </tr>\n",
       "    <tr>\n",
       "      <th>Eau Claire_2020-01-22</th>\n",
       "      <td>Eau Claire</td>\n",
       "      <td>2020-01-22</td>\n",
       "      <td>0.0</td>\n",
       "      <td>0</td>\n",
       "      <td>0.0</td>\n",
       "    </tr>\n",
       "  </tbody>\n",
       "</table>\n",
       "</div>"
      ],
      "text/plain": [
       "                          GEOName        Date  POS_7DAYAVG_CP  DTH_NEW_CP  \\\n",
       "Barron_2020-01-22          Barron  2020-01-22             0.0           0   \n",
       "Calumet_2020-01-22        Calumet  2020-01-22             0.0           0   \n",
       "Chippewa_2020-01-22      Chippewa  2020-01-22             0.0           0   \n",
       "Dunn_2020-01-22              Dunn  2020-01-22             0.0           0   \n",
       "Eau Claire_2020-01-22  Eau Claire  2020-01-22             0.0           0   \n",
       "\n",
       "                       DTH_NEW_2WK  \n",
       "Barron_2020-01-22              0.0  \n",
       "Calumet_2020-01-22             0.0  \n",
       "Chippewa_2020-01-22            0.0  \n",
       "Dunn_2020-01-22                0.0  \n",
       "Eau Claire_2020-01-22          0.0  "
      ]
     },
     "execution_count": 68,
     "metadata": {},
     "output_type": "execute_result"
    }
   ],
   "source": [
    "df = df.set_index(df[\"GEOName\"] + \"_\" + df[\"Date\"].astype(str))\n",
    "df.head()"
   ]
  },
  {
   "cell_type": "code",
   "execution_count": 69,
   "id": "787953c0",
   "metadata": {},
   "outputs": [
    {
     "data": {
      "text/html": [
       "<div>\n",
       "<style scoped>\n",
       "    .dataframe tbody tr th:only-of-type {\n",
       "        vertical-align: middle;\n",
       "    }\n",
       "\n",
       "    .dataframe tbody tr th {\n",
       "        vertical-align: top;\n",
       "    }\n",
       "\n",
       "    .dataframe thead th {\n",
       "        text-align: right;\n",
       "    }\n",
       "</style>\n",
       "<table border=\"1\" class=\"dataframe\">\n",
       "  <thead>\n",
       "    <tr style=\"text-align: right;\">\n",
       "      <th></th>\n",
       "      <th>GEOName</th>\n",
       "      <th>Date</th>\n",
       "      <th>POS_7DAYAVG_CP</th>\n",
       "      <th>DTH_NEW_CP</th>\n",
       "      <th>DTH_NEW_2WK</th>\n",
       "    </tr>\n",
       "  </thead>\n",
       "  <tbody>\n",
       "    <tr>\n",
       "      <th>Barron_2020-01-22</th>\n",
       "      <td>Barron</td>\n",
       "      <td>2020-01-22</td>\n",
       "      <td>0.0</td>\n",
       "      <td>0</td>\n",
       "      <td>0.0</td>\n",
       "    </tr>\n",
       "    <tr>\n",
       "      <th>Calumet_2020-01-22</th>\n",
       "      <td>Calumet</td>\n",
       "      <td>2020-01-22</td>\n",
       "      <td>0.0</td>\n",
       "      <td>0</td>\n",
       "      <td>0.0</td>\n",
       "    </tr>\n",
       "    <tr>\n",
       "      <th>Chippewa_2020-01-22</th>\n",
       "      <td>Chippewa</td>\n",
       "      <td>2020-01-22</td>\n",
       "      <td>0.0</td>\n",
       "      <td>0</td>\n",
       "      <td>0.0</td>\n",
       "    </tr>\n",
       "    <tr>\n",
       "      <th>Dunn_2020-01-22</th>\n",
       "      <td>Dunn</td>\n",
       "      <td>2020-01-22</td>\n",
       "      <td>0.0</td>\n",
       "      <td>0</td>\n",
       "      <td>0.0</td>\n",
       "    </tr>\n",
       "    <tr>\n",
       "      <th>Eau Claire_2020-01-22</th>\n",
       "      <td>Eau Claire</td>\n",
       "      <td>2020-01-22</td>\n",
       "      <td>0.0</td>\n",
       "      <td>0</td>\n",
       "      <td>0.0</td>\n",
       "    </tr>\n",
       "  </tbody>\n",
       "</table>\n",
       "</div>"
      ],
      "text/plain": [
       "                          GEOName        Date  POS_7DAYAVG_CP  DTH_NEW_CP  \\\n",
       "Barron_2020-01-22          Barron  2020-01-22             0.0           0   \n",
       "Calumet_2020-01-22        Calumet  2020-01-22             0.0           0   \n",
       "Chippewa_2020-01-22      Chippewa  2020-01-22             0.0           0   \n",
       "Dunn_2020-01-22              Dunn  2020-01-22             0.0           0   \n",
       "Eau Claire_2020-01-22  Eau Claire  2020-01-22             0.0           0   \n",
       "\n",
       "                       DTH_NEW_2WK  \n",
       "Barron_2020-01-22              0.0  \n",
       "Calumet_2020-01-22             0.0  \n",
       "Chippewa_2020-01-22            0.0  \n",
       "Dunn_2020-01-22                0.0  \n",
       "Eau Claire_2020-01-22          0.0  "
      ]
     },
     "execution_count": 69,
     "metadata": {},
     "output_type": "execute_result"
    }
   ],
   "source": [
    "df[\"DTH_NEW_2WK\"] = deaths[\"DTH_NEW_CP\"]\n",
    "df.dropna()\n",
    "df.head()"
   ]
  },
  {
   "cell_type": "code",
   "execution_count": 67,
   "id": "9d365231",
   "metadata": {},
   "outputs": [],
   "source": [
    "df.to_csv(\"wi_covid.csv\", index = False)"
   ]
  },
  {
   "cell_type": "code",
   "execution_count": 70,
   "id": "ee1490b9",
   "metadata": {},
   "outputs": [
    {
     "name": "stderr",
     "output_type": "stream",
     "text": [
      "C:\\Users\\MOHAME~1\\AppData\\Local\\Temp/ipykernel_7820/3698961737.py:1: FutureWarning: Dropping of nuisance columns in DataFrame reductions (with 'numeric_only=None') is deprecated; in a future version this will raise TypeError.  Select only valid columns before calling the reduction.\n",
      "  df.mean()\n"
     ]
    },
    {
     "data": {
      "text/plain": [
       "POS_7DAYAVG_CP    26.290733\n",
       "DTH_NEW_CP         0.155283\n",
       "DTH_NEW_2WK        0.157517\n",
       "dtype: float64"
      ]
     },
     "execution_count": 70,
     "metadata": {},
     "output_type": "execute_result"
    }
   ],
   "source": [
    "df.mean()"
   ]
  },
  {
   "cell_type": "markdown",
   "id": "d35310f4",
   "metadata": {},
   "source": [
    "## Analysis"
   ]
  },
  {
   "cell_type": "code",
   "execution_count": 91,
   "id": "70e74f89",
   "metadata": {},
   "outputs": [
    {
     "data": {
      "text/plain": [
       "<AxesSubplot:xlabel='DTH_NEW_CP', ylabel='DTH_NEW_2WK'>"
      ]
     },
     "execution_count": 91,
     "metadata": {},
     "output_type": "execute_result"
    },
    {
     "data": {
      "image/png": "[encoded data removed]",
      "text/plain": [
       "<Figure size 432x288 with 1 Axes>"
      ]
     },
     "metadata": {
      "needs_background": "light"
     },
     "output_type": "display_data"
    }
   ],
   "source": [
    "df.plot.scatter(x=\"DTH_NEW_CP\", y=\"DTH_NEW_2WK\", alpha=0.2)"
   ]
  },
  {
   "cell_type": "code",
   "execution_count": 26,
   "id": "9e528007",
   "metadata": {},
   "outputs": [],
   "source": [
    "from sklearn.linear_model import LinearRegression"
   ]
  },
  {
   "cell_type": "code",
   "execution_count": 27,
   "id": "eaf2c33b",
   "metadata": {},
   "outputs": [],
   "source": [
    "lr = LinearRegression()"
   ]
  },
  {
   "cell_type": "code",
   "execution_count": 99,
   "id": "f3c23ff3",
   "metadata": {},
   "outputs": [
    {
     "data": {
      "text/html": [
       "<div>\n",
       "<style scoped>\n",
       "    .dataframe tbody tr th:only-of-type {\n",
       "        vertical-align: middle;\n",
       "    }\n",
       "\n",
       "    .dataframe tbody tr th {\n",
       "        vertical-align: top;\n",
       "    }\n",
       "\n",
       "    .dataframe thead th {\n",
       "        text-align: right;\n",
       "    }\n",
       "</style>\n",
       "<table border=\"1\" class=\"dataframe\">\n",
       "  <thead>\n",
       "    <tr style=\"text-align: right;\">\n",
       "      <th></th>\n",
       "      <th>GEOName</th>\n",
       "      <th>Date</th>\n",
       "      <th>POS_7DAYAVG_CP</th>\n",
       "      <th>DTH_NEW_CP</th>\n",
       "      <th>DTH_NEW_2WK</th>\n",
       "    </tr>\n",
       "  </thead>\n",
       "  <tbody>\n",
       "    <tr>\n",
       "      <th>0</th>\n",
       "      <td>Barron</td>\n",
       "      <td>2020-01-22</td>\n",
       "      <td>0.0</td>\n",
       "      <td>0</td>\n",
       "      <td>0.0</td>\n",
       "    </tr>\n",
       "    <tr>\n",
       "      <th>1</th>\n",
       "      <td>Calumet</td>\n",
       "      <td>2020-01-22</td>\n",
       "      <td>0.0</td>\n",
       "      <td>0</td>\n",
       "      <td>0.0</td>\n",
       "    </tr>\n",
       "    <tr>\n",
       "      <th>2</th>\n",
       "      <td>Chippewa</td>\n",
       "      <td>2020-01-22</td>\n",
       "      <td>0.0</td>\n",
       "      <td>0</td>\n",
       "      <td>0.0</td>\n",
       "    </tr>\n",
       "    <tr>\n",
       "      <th>3</th>\n",
       "      <td>Dunn</td>\n",
       "      <td>2020-01-22</td>\n",
       "      <td>0.0</td>\n",
       "      <td>0</td>\n",
       "      <td>0.0</td>\n",
       "    </tr>\n",
       "    <tr>\n",
       "      <th>4</th>\n",
       "      <td>Eau Claire</td>\n",
       "      <td>2020-01-22</td>\n",
       "      <td>0.0</td>\n",
       "      <td>0</td>\n",
       "      <td>0.0</td>\n",
       "    </tr>\n",
       "  </tbody>\n",
       "</table>\n",
       "</div>"
      ],
      "text/plain": [
       "      GEOName        Date  POS_7DAYAVG_CP  DTH_NEW_CP  DTH_NEW_2WK\n",
       "0      Barron  2020-01-22             0.0           0          0.0\n",
       "1     Calumet  2020-01-22             0.0           0          0.0\n",
       "2    Chippewa  2020-01-22             0.0           0          0.0\n",
       "3        Dunn  2020-01-22             0.0           0          0.0\n",
       "4  Eau Claire  2020-01-22             0.0           0          0.0"
      ]
     },
     "execution_count": 99,
     "metadata": {},
     "output_type": "execute_result"
    }
   ],
   "source": [
    "df = pd.read_csv(\"wi_covid.csv\")\n",
    "df = df.dropna()\n",
    "\n",
    "df.head()\n"
   ]
  },
  {
   "cell_type": "code",
   "execution_count": 100,
   "id": "ef4a22fd",
   "metadata": {},
   "outputs": [
    {
     "data": {
      "text/html": [
       "<div>\n",
       "<style scoped>\n",
       "    .dataframe tbody tr th:only-of-type {\n",
       "        vertical-align: middle;\n",
       "    }\n",
       "\n",
       "    .dataframe tbody tr th {\n",
       "        vertical-align: top;\n",
       "    }\n",
       "\n",
       "    .dataframe thead th {\n",
       "        text-align: right;\n",
       "    }\n",
       "</style>\n",
       "<table border=\"1\" class=\"dataframe\">\n",
       "  <thead>\n",
       "    <tr style=\"text-align: right;\">\n",
       "      <th></th>\n",
       "      <th>DTH_NEW_CP</th>\n",
       "    </tr>\n",
       "  </thead>\n",
       "  <tbody>\n",
       "    <tr>\n",
       "      <th>0</th>\n",
       "      <td>0</td>\n",
       "    </tr>\n",
       "    <tr>\n",
       "      <th>1</th>\n",
       "      <td>0</td>\n",
       "    </tr>\n",
       "    <tr>\n",
       "      <th>2</th>\n",
       "      <td>0</td>\n",
       "    </tr>\n",
       "    <tr>\n",
       "      <th>3</th>\n",
       "      <td>0</td>\n",
       "    </tr>\n",
       "    <tr>\n",
       "      <th>4</th>\n",
       "      <td>0</td>\n",
       "    </tr>\n",
       "    <tr>\n",
       "      <th>...</th>\n",
       "      <td>...</td>\n",
       "    </tr>\n",
       "    <tr>\n",
       "      <th>70051</th>\n",
       "      <td>0</td>\n",
       "    </tr>\n",
       "    <tr>\n",
       "      <th>70052</th>\n",
       "      <td>0</td>\n",
       "    </tr>\n",
       "    <tr>\n",
       "      <th>70053</th>\n",
       "      <td>0</td>\n",
       "    </tr>\n",
       "    <tr>\n",
       "      <th>70054</th>\n",
       "      <td>0</td>\n",
       "    </tr>\n",
       "    <tr>\n",
       "      <th>70055</th>\n",
       "      <td>0</td>\n",
       "    </tr>\n",
       "  </tbody>\n",
       "</table>\n",
       "<p>70056 rows × 1 columns</p>\n",
       "</div>"
      ],
      "text/plain": [
       "       DTH_NEW_CP\n",
       "0               0\n",
       "1               0\n",
       "2               0\n",
       "3               0\n",
       "4               0\n",
       "...           ...\n",
       "70051           0\n",
       "70052           0\n",
       "70053           0\n",
       "70054           0\n",
       "70055           0\n",
       "\n",
       "[70056 rows x 1 columns]"
      ]
     },
     "execution_count": 100,
     "metadata": {},
     "output_type": "execute_result"
    }
   ],
   "source": [
    "df[[\"DTH_NEW_CP\"]]"
   ]
  },
  {
   "cell_type": "code",
   "execution_count": 102,
   "id": "9ed463b9",
   "metadata": {},
   "outputs": [
    {
     "data": {
      "text/plain": [
       "LinearRegression()"
      ]
     },
     "execution_count": 102,
     "metadata": {},
     "output_type": "execute_result"
    }
   ],
   "source": [
    "lr.fit(df[[\"DTH_NEW_CP\"]], df[\"DTH_NEW_2WK\"])"
   ]
  },
  {
   "cell_type": "code",
   "execution_count": 108,
   "id": "4e255dbb",
   "metadata": {},
   "outputs": [
    {
     "data": {
      "text/html": [
       "<div>\n",
       "<style scoped>\n",
       "    .dataframe tbody tr th:only-of-type {\n",
       "        vertical-align: middle;\n",
       "    }\n",
       "\n",
       "    .dataframe tbody tr th {\n",
       "        vertical-align: top;\n",
       "    }\n",
       "\n",
       "    .dataframe thead th {\n",
       "        text-align: right;\n",
       "    }\n",
       "</style>\n",
       "<table border=\"1\" class=\"dataframe\">\n",
       "  <thead>\n",
       "    <tr style=\"text-align: right;\">\n",
       "      <th></th>\n",
       "      <th>DTH_NEW_CP</th>\n",
       "      <th>Predicted_DTH_NEW_2WK</th>\n",
       "    </tr>\n",
       "  </thead>\n",
       "  <tbody>\n",
       "    <tr>\n",
       "      <th>0</th>\n",
       "      <td>0</td>\n",
       "      <td>0.105028</td>\n",
       "    </tr>\n",
       "    <tr>\n",
       "      <th>1</th>\n",
       "      <td>1</td>\n",
       "      <td>0.439376</td>\n",
       "    </tr>\n",
       "    <tr>\n",
       "      <th>2</th>\n",
       "      <td>2</td>\n",
       "      <td>0.773724</td>\n",
       "    </tr>\n",
       "    <tr>\n",
       "      <th>3</th>\n",
       "      <td>3</td>\n",
       "      <td>1.108072</td>\n",
       "    </tr>\n",
       "    <tr>\n",
       "      <th>4</th>\n",
       "      <td>4</td>\n",
       "      <td>1.442420</td>\n",
       "    </tr>\n",
       "    <tr>\n",
       "      <th>...</th>\n",
       "      <td>...</td>\n",
       "      <td>...</td>\n",
       "    </tr>\n",
       "    <tr>\n",
       "      <th>95</th>\n",
       "      <td>95</td>\n",
       "      <td>31.868089</td>\n",
       "    </tr>\n",
       "    <tr>\n",
       "      <th>96</th>\n",
       "      <td>96</td>\n",
       "      <td>32.202437</td>\n",
       "    </tr>\n",
       "    <tr>\n",
       "      <th>97</th>\n",
       "      <td>97</td>\n",
       "      <td>32.536785</td>\n",
       "    </tr>\n",
       "    <tr>\n",
       "      <th>98</th>\n",
       "      <td>98</td>\n",
       "      <td>32.871133</td>\n",
       "    </tr>\n",
       "    <tr>\n",
       "      <th>99</th>\n",
       "      <td>99</td>\n",
       "      <td>33.205481</td>\n",
       "    </tr>\n",
       "  </tbody>\n",
       "</table>\n",
       "<p>100 rows × 2 columns</p>\n",
       "</div>"
      ],
      "text/plain": [
       "    DTH_NEW_CP  Predicted_DTH_NEW_2WK\n",
       "0            0               0.105028\n",
       "1            1               0.439376\n",
       "2            2               0.773724\n",
       "3            3               1.108072\n",
       "4            4               1.442420\n",
       "..         ...                    ...\n",
       "95          95              31.868089\n",
       "96          96              32.202437\n",
       "97          97              32.536785\n",
       "98          98              32.871133\n",
       "99          99              33.205481\n",
       "\n",
       "[100 rows x 2 columns]"
      ]
     },
     "execution_count": 108,
     "metadata": {},
     "output_type": "execute_result"
    }
   ],
   "source": [
    "fit_df = pd.DataFrame({\"DTH_NEW_CP\": range(0,100)})\n",
    "fit_df[\"Predicted_DTH_NEW_2WK\"] = lr.predict(fit_df)\n",
    "fit_df"
   ]
  },
  {
   "cell_type": "code",
   "execution_count": 109,
   "id": "28b089fa",
   "metadata": {},
   "outputs": [
    {
     "data": {
      "text/plain": [
       "<AxesSubplot:xlabel='DTH_NEW_CP', ylabel='DTH_NEW_2WK'>"
      ]
     },
     "execution_count": 109,
     "metadata": {},
     "output_type": "execute_result"
    },
    {
     "data": {
      "image/png": "[encoded data removed]",
      "text/plain": [
       "<Figure size 432x288 with 1 Axes>"
      ]
     },
     "metadata": {
      "needs_background": "light"
     },
     "output_type": "display_data"
    }
   ],
   "source": [
    "ax = fit_df.plot.line(x=\"DTH_NEW_CP\", y=\"Predicted_DTH_NEW_2WK\", color=\"red\")\n",
    "\n",
    "df.plot.scatter(x=\"DTH_NEW_CP\", y=\"DTH_NEW_2WK\", alpha=0.2, ax=ax)"
   ]
  },
  {
   "cell_type": "code",
   "execution_count": 110,
   "id": "2a56edda",
   "metadata": {},
   "outputs": [
    {
     "data": {
      "text/plain": [
       "0.11169480162111034"
      ]
     },
     "execution_count": 110,
     "metadata": {},
     "output_type": "execute_result"
    }
   ],
   "source": [
    "lr.score(df[[\"DTH_NEW_CP\"]], df[\"DTH_NEW_2WK\"]) #check variance (0 to 1)"
   ]
  }
 ],
 "metadata": {
  "kernelspec": {
   "display_name": "Python 3 (ipykernel)",
   "language": "python",
   "name": "python3"
  },
  "language_info": {
   "codemirror_mode": {
    "name": "ipython",
    "version": 3
   },
   "file_extension": ".py",
   "mimetype": "text/x-python",
   "name": "python",
   "nbconvert_exporter": "python",
   "pygments_lexer": "ipython3",
   "version": "3.8.12"
  }
 },
 "nbformat": 4,
 "nbformat_minor": 5
}
