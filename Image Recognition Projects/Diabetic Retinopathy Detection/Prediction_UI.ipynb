{
 "cells": [
  {
   "cell_type": "code",
   "execution_count": 1,
   "id": "a6286a33",
   "metadata": {},
   "outputs": [],
   "source": [
    "#!pip install gradio\n",
    "#!pip install ipywidgets"
   ]
  },
  {
   "cell_type": "code",
   "execution_count": 1,
   "id": "04bd4a3f",
   "metadata": {},
   "outputs": [],
   "source": [
    "import gradio as gr\n",
    "import joblib\n",
    "import numpy as np\n",
    "import matplotlib.pyplot as plt\n",
    "\n",
    "from tensorflow.keras.models import load_model,Model"
   ]
  },
  {
   "cell_type": "code",
   "execution_count": 2,
   "id": "663fd8a9",
   "metadata": {},
   "outputs": [],
   "source": [
    "cnn = load_model(\"Model_2_CNN.h5\")\n",
    "svm = joblib.load(\"SVM_Classifier_2.h5\")\n",
    "\n",
    "extractCNN = Model(cnn.inputs, cnn.layers[-8].output)\n",
    "\n",
    "classes = ['No DR', 'Mild DR','Moderate DR','Severe DR', 'Proliferative DR']"
   ]
  },
  {
   "cell_type": "markdown",
   "id": "d89fe59d",
   "metadata": {},
   "source": [
    "X = np.load('data.npy')\n",
    "Y = np.load('label.npy')"
   ]
  },
  {
   "cell_type": "markdown",
   "id": "e2c90a39",
   "metadata": {},
   "source": [
    "print(X.shape)\n",
    "print(Y.shape)"
   ]
  },
  {
   "cell_type": "markdown",
   "id": "03512833",
   "metadata": {},
   "source": [
    "features_train  = extractCNN.predict(X)"
   ]
  },
  {
   "cell_type": "markdown",
   "id": "9e1768b6",
   "metadata": {},
   "source": [
    "TrainSVMScore=svm.score(features_train, Y)*100\n",
    "\n",
    "print(TrainSVMScore)"
   ]
  },
  {
   "cell_type": "code",
   "execution_count": 3,
   "id": "5e53cb95",
   "metadata": {},
   "outputs": [],
   "source": [
    "def predict_input_image(img):\n",
    "    \n",
    "    print(img.size)\n",
    "    img = img.resize((224,224))\n",
    "    print(img.size)\n",
    "    img_array = np.array(img)\n",
    "    img_array = img_array.reshape((-1,224, 224, 3))\n",
    " \n",
    "    img_array = img_array / 255.0\n",
    "    print(img_array.shape)\n",
    "        \n",
    "    exfeature = extractCNN.predict(img_array)\n",
    "    prediction = svm.predict(exfeature)\n",
    "    \n",
    "    print(prediction)\n",
    "    return classes[prediction[0]]"
   ]
  },
  {
   "cell_type": "code",
   "execution_count": 4,
   "id": "8b72c000",
   "metadata": {
    "scrolled": false
   },
   "outputs": [
    {
     "name": "stdout",
     "output_type": "stream",
     "text": [
      "Running on local URL:  http://127.0.0.1:7860\n",
      "IMPORTANT: You are using gradio version 4.7.1, however version 4.29.0 is available, please upgrade.\n",
      "--------\n",
      "Running on public URL: https://0970595f6640121691.gradio.live\n",
      "\n",
      "This share link expires in 72 hours. For free permanent hosting and GPU upgrades, run `gradio deploy` from Terminal to deploy to Spaces (https://huggingface.co/spaces)\n"
     ]
    },
    {
     "data": {
      "text/html": [
       "<div><iframe src=\"https://0970595f6640121691.gradio.live\" width=\"100%\" height=\"500\" allow=\"autoplay; camera; microphone; clipboard-read; clipboard-write;\" frameborder=\"0\" allowfullscreen></iframe></div>"
      ],
      "text/plain": [
       "<IPython.core.display.HTML object>"
      ]
     },
     "metadata": {},
     "output_type": "display_data"
    },
    {
     "data": {
      "text/plain": []
     },
     "execution_count": 4,
     "metadata": {},
     "output_type": "execute_result"
    }
   ],
   "source": [
    "gr.Interface(fn=predict_input_image,\n",
    "             inputs=gr.Image(type=\"pil\"),\n",
    "             outputs=\"label\",\n",
    "             examples=[\"0b8bdec9d869.png\"],\n",
    "             allow_flagging = 'never').launch(share=True)"
   ]
  },
  {
   "cell_type": "code",
   "execution_count": null,
   "id": "9158fa9f",
   "metadata": {},
   "outputs": [],
   "source": []
  }
 ],
 "metadata": {
  "kernelspec": {
   "display_name": "Python 3 (ipykernel)",
   "language": "python",
   "name": "python3"
  },
  "language_info": {
   "codemirror_mode": {
    "name": "ipython",
    "version": 3
   },
   "file_extension": ".py",
   "mimetype": "text/x-python",
   "name": "python",
   "nbconvert_exporter": "python",
   "pygments_lexer": "ipython3",
   "version": "3.9.17"
  }
 },
 "nbformat": 4,
 "nbformat_minor": 5
}
