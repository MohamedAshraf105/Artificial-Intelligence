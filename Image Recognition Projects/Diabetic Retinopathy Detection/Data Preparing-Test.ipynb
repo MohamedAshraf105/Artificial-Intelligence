{
 "cells": [
  {
   "cell_type": "markdown",
   "id": "a822f7ab",
   "metadata": {},
   "source": [
    "\n",
    "# Importing necessary libraries\n"
   ]
  },
  {
   "cell_type": "code",
   "execution_count": 1,
   "id": "a5e033be",
   "metadata": {},
   "outputs": [],
   "source": [
    "import cv2\n",
    "import os\n",
    "import numpy as np\n",
    "import pandas as pd\n",
    "import matplotlib.pyplot as plt"
   ]
  },
  {
   "cell_type": "markdown",
   "id": "5c245ebf",
   "metadata": {},
   "source": [
    "# Setting directories and image size"
   ]
  },
  {
   "cell_type": "code",
   "execution_count": 2,
   "id": "3a16f6ee",
   "metadata": {},
   "outputs": [],
   "source": [
    "img_size =224\n",
    "\n",
    "df_train = pd.read_csv('E:/Dataset/DR/train.csv')\n",
    "train_dir = 'E:/Dataset/DR/train_images/'"
   ]
  },
  {
   "cell_type": "markdown",
   "id": "f4cf782d",
   "metadata": {},
   "source": [
    "# Reading training data "
   ]
  },
  {
   "cell_type": "code",
   "execution_count": 3,
   "id": "7f400ab3",
   "metadata": {},
   "outputs": [],
   "source": [
    "training_Data = [] \n",
    "\n",
    "def create_training_Data():\n",
    "    \n",
    "    for img, label in zip(df_train['id_code'],df_train['diagnosis']):\n",
    "        \n",
    "        try:\n",
    "            img_array = cv2.imread(f'{train_dir}{img}.png', cv2.IMREAD_COLOR) \n",
    "            img_array = cv2.cvtColor(img_array, cv2.COLOR_BGR2RGB) #Conversion of BGR to RGB\n",
    "            \n",
    "          \n",
    "            new_array = cv2.resize(img_array, (img_size,img_size))\n",
    "            training_Data.append([new_array, label])\n",
    "       \n",
    "        except Exception as e:\n",
    "            pass "
   ]
  },
  {
   "cell_type": "code",
   "execution_count": 4,
   "id": "c032efa5",
   "metadata": {},
   "outputs": [],
   "source": [
    "create_training_Data()"
   ]
  },
  {
   "cell_type": "code",
   "execution_count": 5,
   "id": "73833ab7",
   "metadata": {},
   "outputs": [
    {
     "data": {
      "text/plain": [
       "3662"
      ]
     },
     "execution_count": 5,
     "metadata": {},
     "output_type": "execute_result"
    }
   ],
   "source": [
    "len(training_Data)"
   ]
  },
  {
   "cell_type": "markdown",
   "id": "86ea6e81",
   "metadata": {},
   "source": [
    "### Converting data into numpy array\n"
   ]
  },
  {
   "cell_type": "code",
   "execution_count": 6,
   "id": "7ddffcc1",
   "metadata": {},
   "outputs": [],
   "source": [
    "import random\n",
    "\n",
    "random.shuffle(training_Data)"
   ]
  },
  {
   "cell_type": "code",
   "execution_count": 7,
   "id": "34d500df",
   "metadata": {},
   "outputs": [
    {
     "name": "stdout",
     "output_type": "stream",
     "text": [
      "(3662, 224, 224, 3)\n",
      "(3662,)\n"
     ]
    }
   ],
   "source": [
    "X = []\n",
    "Y = []\n",
    "\n",
    "for features,labels in training_Data:\n",
    "    \n",
    "    X.append(features)\n",
    "    Y.append(labels)\n",
    "    \n",
    "X = np.array(X).reshape(-1,img_size,img_size,3)\n",
    "Y = np.array(Y)\n",
    "\n",
    "print(X.shape)\n",
    "print(Y.shape)"
   ]
  },
  {
   "cell_type": "code",
   "execution_count": 8,
   "id": "0e64c5c5",
   "metadata": {},
   "outputs": [
    {
     "name": "stdout",
     "output_type": "stream",
     "text": [
      "0 (No DR) :  1805\n",
      "1 (Mild) :  370\n",
      "2 (Moderate) :  999\n",
      "3 (Severe) :  193\n",
      "4 (Proliferative DR) :  295\n"
     ]
    }
   ],
   "source": [
    "unique, counts = np.unique(Y, return_counts=True)\n",
    "LabelCounts = dict(zip(unique, counts))\n",
    "\n",
    "for key, value in LabelCounts.items():\n",
    "    if(key==0):\n",
    "        print(key, '(No DR) : ', value)\n",
    "    \n",
    "    elif(key==1):\n",
    "        print(key, '(Mild) : ', value)\n",
    "    \n",
    "    elif(key==2):\n",
    "        print(key, '(Moderate) : ', value)\n",
    "        \n",
    "    elif(key==3):\n",
    "        print(key, '(Severe) : ', value)\n",
    "    \n",
    "    else:\n",
    "        print(key, '(Proliferative DR) : ', value)"
   ]
  },
  {
   "cell_type": "markdown",
   "id": "41b45ad0",
   "metadata": {},
   "source": [
    "### Normalization and Saving"
   ]
  },
  {
   "cell_type": "code",
   "execution_count": 9,
   "id": "b0dcfd7e",
   "metadata": {},
   "outputs": [],
   "source": [
    "#normalizing data\n",
    "\n",
    "X = X/255.0"
   ]
  },
  {
   "cell_type": "code",
   "execution_count": 10,
   "id": "20526e92",
   "metadata": {},
   "outputs": [],
   "source": [
    "np.save('data', X)\n",
    "np.save('label', Y)"
   ]
  },
  {
   "cell_type": "code",
   "execution_count": null,
   "id": "b979d7bc",
   "metadata": {},
   "outputs": [],
   "source": []
  }
 ],
 "metadata": {
  "kernelspec": {
   "display_name": "Python 3 (ipykernel)",
   "language": "python",
   "name": "python3"
  },
  "language_info": {
   "codemirror_mode": {
    "name": "ipython",
    "version": 3
   },
   "file_extension": ".py",
   "mimetype": "text/x-python",
   "name": "python",
   "nbconvert_exporter": "python",
   "pygments_lexer": "ipython3",
   "version": "3.9.17"
  }
 },
 "nbformat": 4,
 "nbformat_minor": 5
}
