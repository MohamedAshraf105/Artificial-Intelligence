{
 "cells": [
  {
   "cell_type": "markdown",
   "id": "a822f7ab",
   "metadata": {},
   "source": [
    "\n",
    "# Importing necessary libraries\n"
   ]
  },
  {
   "cell_type": "code",
   "execution_count": 1,
   "id": "a5e033be",
   "metadata": {},
   "outputs": [],
   "source": [
    "import cv2\n",
    "import os\n",
    "import numpy as np\n",
    "import pandas as pd\n",
    "import matplotlib.pyplot as plt\n",
    "import seaborn as sns"
   ]
  },
  {
   "cell_type": "markdown",
   "id": "5c245ebf",
   "metadata": {},
   "source": [
    "# Setting directories and image size"
   ]
  },
  {
   "cell_type": "code",
   "execution_count": 2,
   "id": "3a16f6ee",
   "metadata": {},
   "outputs": [],
   "source": [
    "img_size =224\n",
    "\n",
    "df_train = pd.read_csv('E:/Dataset/DRG/train.csv')\n",
    "train_dir = 'E:/Dataset/DRG/train_images/'"
   ]
  },
  {
   "cell_type": "markdown",
   "id": "f4cf782d",
   "metadata": {},
   "source": [
    "# Reading training data "
   ]
  },
  {
   "cell_type": "code",
   "execution_count": 3,
   "id": "7f400ab3",
   "metadata": {},
   "outputs": [],
   "source": [
    "training_Data = [] \n",
    "\n",
    "def create_training_Data():\n",
    "    \n",
    "    i=0 \n",
    "    \n",
    "    for img, label in zip(df_train['id_code'],df_train['diagnosis']):\n",
    "        \n",
    "        if((label==0) and (i>=1500)):\n",
    "            continue\n",
    "        elif(label==0):\n",
    "            i+=1\n",
    "        \n",
    "        try:\n",
    "            img_array = cv2.imread(f'{train_dir}{img}.png', cv2.IMREAD_COLOR) #reading as BGR for Transfer Learning\n",
    "            img_array = cv2.cvtColor(img_array, cv2.COLOR_BGR2RGB) #Conversion of BGR to RGB\n",
    "\n",
    "            new_array = cv2.resize(img_array, (img_size,img_size))\n",
    "            training_Data.append([new_array, label])\n",
    "       \n",
    "        except Exception as e:\n",
    "            pass \n",
    "        \n",
    "    print(i)"
   ]
  },
  {
   "cell_type": "code",
   "execution_count": 4,
   "id": "c032efa5",
   "metadata": {},
   "outputs": [
    {
     "name": "stdout",
     "output_type": "stream",
     "text": [
      "1500\n"
     ]
    }
   ],
   "source": [
    "create_training_Data()"
   ]
  },
  {
   "cell_type": "code",
   "execution_count": 5,
   "id": "73833ab7",
   "metadata": {},
   "outputs": [
    {
     "data": {
      "text/plain": [
       "3357"
      ]
     },
     "execution_count": 5,
     "metadata": {},
     "output_type": "execute_result"
    }
   ],
   "source": [
    "len(training_Data)"
   ]
  },
  {
   "cell_type": "markdown",
   "id": "86ea6e81",
   "metadata": {},
   "source": [
    "### Converting data into numpy array\n"
   ]
  },
  {
   "cell_type": "code",
   "execution_count": 6,
   "id": "7ddffcc1",
   "metadata": {},
   "outputs": [],
   "source": [
    "import random\n",
    "\n",
    "random.shuffle(training_Data)"
   ]
  },
  {
   "cell_type": "code",
   "execution_count": 7,
   "id": "34d500df",
   "metadata": {},
   "outputs": [
    {
     "name": "stdout",
     "output_type": "stream",
     "text": [
      "(3357, 224, 224, 3)\n",
      "(3357,)\n"
     ]
    }
   ],
   "source": [
    "X = []\n",
    "Y = []\n",
    "\n",
    "for features,labels in training_Data:\n",
    "    \n",
    "    X.append(features)\n",
    "    Y.append(labels)\n",
    "    \n",
    "X = np.array(X).reshape(-1,img_size,img_size,3)\n",
    "Y = np.array(Y)\n",
    "\n",
    "print(X.shape)\n",
    "print(Y.shape)"
   ]
  },
  {
   "cell_type": "code",
   "execution_count": 8,
   "id": "511516ac",
   "metadata": {},
   "outputs": [
    {
     "name": "stdout",
     "output_type": "stream",
     "text": [
      "Size of the array:  505322496\n",
      "Memory size of one array element in bytes:  1\n",
      "Memory size of numpy array in bytes: 505322496\n"
     ]
    }
   ],
   "source": [
    "print(\"Size of the array: \",\n",
    "      X.size)\n",
    " \n",
    "print(\"Memory size of one array element in bytes: \",\n",
    "      X.itemsize)\n",
    " \n",
    "# memory size of numpy array\n",
    "print(\"Memory size of numpy array in bytes:\",\n",
    "      X.size * X.itemsize)"
   ]
  },
  {
   "cell_type": "code",
   "execution_count": 9,
   "id": "0e64c5c5",
   "metadata": {},
   "outputs": [
    {
     "name": "stdout",
     "output_type": "stream",
     "text": [
      "0 (No DR) :  1500\n",
      "1 (Mild) :  370\n",
      "2 (Moderate) :  999\n",
      "3 (Severe) :  193\n",
      "4 (Proliferative DR) :  295\n"
     ]
    }
   ],
   "source": [
    "unique, counts = np.unique(Y, return_counts=True)\n",
    "LabelCounts = dict(zip(unique, counts))\n",
    "\n",
    "for key, value in LabelCounts.items():\n",
    "    if(key==0):\n",
    "        print(key, '(No DR) : ', value)\n",
    "    \n",
    "    elif(key==1):\n",
    "        print(key, '(Mild) : ', value)\n",
    "    \n",
    "    elif(key==2):\n",
    "        print(key, '(Moderate) : ', value)\n",
    "        \n",
    "    elif(key==3):\n",
    "        print(key, '(Severe) : ', value)\n",
    "    \n",
    "    else:\n",
    "        print(key, '(Proliferative DR) : ', value)"
   ]
  },
  {
   "cell_type": "code",
   "execution_count": 10,
   "id": "4fcb6a76",
   "metadata": {},
   "outputs": [
    {
     "data": {
      "image/png": "[encoded data removed]",
      "text/plain": [
       "<Figure size 1000x800 with 1 Axes>"
      ]
     },
     "metadata": {},
     "output_type": "display_data"
    }
   ],
   "source": [
    "plt.figure(figsize=(10,8))\n",
    "sns.barplot(x=unique, y= counts)\n",
    "plt.title('Number of cases', fontsize=14)\n",
    "plt.xlabel('Case type', fontsize=12)\n",
    "plt.ylabel('Count', fontsize=12)\n",
    "plt.xticks(range(len(unique)), ['No DR', 'Mild','Moderate','Severe', 'Proliferative DR' ])\n",
    "plt.show()"
   ]
  },
  {
   "cell_type": "markdown",
   "id": "41b45ad0",
   "metadata": {},
   "source": [
    "### Normalization and Saving"
   ]
  },
  {
   "cell_type": "code",
   "execution_count": 11,
   "id": "b0dcfd7e",
   "metadata": {},
   "outputs": [],
   "source": [
    "#normalizing data\n",
    "\n",
    "X = X/255.0"
   ]
  },
  {
   "cell_type": "code",
   "execution_count": 12,
   "id": "872e72b5",
   "metadata": {},
   "outputs": [
    {
     "data": {
      "text/plain": [
       "505322496"
      ]
     },
     "execution_count": 12,
     "metadata": {},
     "output_type": "execute_result"
    }
   ],
   "source": [
    "X.size"
   ]
  },
  {
   "cell_type": "code",
   "execution_count": 13,
   "id": "20526e92",
   "metadata": {},
   "outputs": [],
   "source": [
    "np.save('data2', X)\n",
    "np.save('label2', Y)"
   ]
  }
 ],
 "metadata": {
  "kernelspec": {
   "display_name": "Python 3 (ipykernel)",
   "language": "python",
   "name": "python3"
  },
  "language_info": {
   "codemirror_mode": {
    "name": "ipython",
    "version": 3
   },
   "file_extension": ".py",
   "mimetype": "text/x-python",
   "name": "python",
   "nbconvert_exporter": "python",
   "pygments_lexer": "ipython3",
   "version": "3.9.17"
  }
 },
 "nbformat": 4,
 "nbformat_minor": 5
}
