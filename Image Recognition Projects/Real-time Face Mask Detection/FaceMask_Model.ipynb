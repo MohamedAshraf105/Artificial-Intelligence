{
 "cells": [
  {
   "cell_type": "code",
   "execution_count": 20,
   "id": "93b672b0",
   "metadata": {},
   "outputs": [],
   "source": [
    "import tensorflow as tf\n",
    "import cv2\n",
    "import os\n",
    "import matplotlib.pyplot as plt\n",
    "import numpy as np\n",
    "\n",
    "from tensorflow.keras.preprocessing.image import img_to_array\n",
    "from tensorflow.keras.applications.mobilenet_v2 import preprocess_input\n",
    "from sklearn.metrics import classification_report,confusion_matrix\n",
    "from tensorflow.keras.preprocessing.image import ImageDataGenerator\n",
    "from tensorflow.keras.utils import to_categorical\n",
    "from tensorflow.keras.applications import MobileNetV2\n",
    "from tensorflow.keras.layers import AveragePooling2D\n",
    "from tensorflow.keras.layers import Dropout\n",
    "from tensorflow.keras.layers import Flatten\n",
    "from tensorflow.keras.layers import Dense\n",
    "from tensorflow.keras.layers import Input\n",
    "from tensorflow.keras.models import Model\n",
    "from tensorflow.keras.optimizers import Adam"
   ]
  },
  {
   "cell_type": "code",
   "execution_count": 26,
   "id": "620b5b65",
   "metadata": {},
   "outputs": [],
   "source": [
    "tf.config.run_functions_eagerly(True)"
   ]
  },
  {
   "cell_type": "code",
   "execution_count": 3,
   "id": "92496405",
   "metadata": {},
   "outputs": [],
   "source": [
    "# initialize the initial learning rate, number of epochs to train for,\n",
    "# and batch size\n",
    "INIT_LR = 1e-4\n",
    "EPOCHS = 10\n",
    "BS = 32"
   ]
  },
  {
   "cell_type": "code",
   "execution_count": 4,
   "id": "e19ebd47",
   "metadata": {},
   "outputs": [],
   "source": [
    "#loading training data and labels\n",
    "\n",
    "feature = np.load('data.npy')\n",
    "label = np.load('label.npy')"
   ]
  },
  {
   "cell_type": "code",
   "execution_count": 22,
   "id": "3ef1bcd7",
   "metadata": {},
   "outputs": [],
   "source": [
    "#loading testing data and labels\n",
    "\n",
    "tfeature = np.load('tdata.npy')\n",
    "tlabel = np.load('tlabel.npy')"
   ]
  },
  {
   "cell_type": "code",
   "execution_count": 6,
   "id": "ecd2740f",
   "metadata": {},
   "outputs": [],
   "source": [
    "# construct the training image generator for data augmentation\n",
    "aug = ImageDataGenerator(rotation_range=20, zoom_range=0.15, width_shift_range=0.2, height_shift_range=0.2, \n",
    "                         shear_range=0.15, horizontal_flip=True, fill_mode=\"nearest\")"
   ]
  },
  {
   "cell_type": "code",
   "execution_count": 7,
   "id": "76633ef1",
   "metadata": {},
   "outputs": [
    {
     "name": "stdout",
     "output_type": "stream",
     "text": [
      "WARNING:tensorflow:`input_shape` is undefined or non-square, or `rows` is not in [96, 128, 160, 192, 224]. Weights for input shape (224, 224) will be loaded as the default.\n"
     ]
    }
   ],
   "source": [
    "# load the MobileNetV2 model excluding top layers (Transfer Learning)\n",
    "\n",
    "baseModel = MobileNetV2(weights=\"imagenet\", include_top=False, input_tensor=Input(shape=(224, 224, 3)))"
   ]
  },
  {
   "cell_type": "code",
   "execution_count": 8,
   "id": "0e7c924a",
   "metadata": {},
   "outputs": [],
   "source": [
    "# construct the head of the model that will be placed on top of the base model\n",
    "\n",
    "headModel = baseModel.output\n",
    "headModel = AveragePooling2D(pool_size=(7, 7))(headModel)\n",
    "headModel = Flatten(name=\"flatten\")(headModel)\n",
    "headModel = Dense(128, activation=\"relu\")(headModel)\n",
    "headModel = Dropout(0.5)(headModel)\n",
    "headModel = Dense(3, activation=\"softmax\")(headModel)"
   ]
  },
  {
   "cell_type": "code",
   "execution_count": 9,
   "id": "38ab7b2f",
   "metadata": {},
   "outputs": [],
   "source": [
    "# place the head FC model on top of the base model (this will become the actual model we will train)\n",
    "\n",
    "model = Model(inputs=baseModel.input, outputs=headModel)"
   ]
  },
  {
   "cell_type": "code",
   "execution_count": 10,
   "id": "0e892335",
   "metadata": {},
   "outputs": [],
   "source": [
    "# loop over all layers in the base model and freeze them so they will not be updated during the first training process\n",
    "\n",
    "for layer in baseModel.layers:\n",
    "    layer.trainable = False"
   ]
  },
  {
   "cell_type": "code",
   "execution_count": 1,
   "id": "7140e332",
   "metadata": {},
   "outputs": [
    {
     "ename": "NameError",
     "evalue": "name 'Adam' is not defined",
     "output_type": "error",
     "traceback": [
      "\u001b[1;31m---------------------------------------------------------------------------\u001b[0m",
      "\u001b[1;31mNameError\u001b[0m                                 Traceback (most recent call last)",
      "\u001b[1;32mC:\\Users\\MOHAME~1\\AppData\\Local\\Temp/ipykernel_3464/2250525489.py\u001b[0m in \u001b[0;36m<module>\u001b[1;34m\u001b[0m\n\u001b[0;32m      1\u001b[0m \u001b[1;31m# compile our model\u001b[0m\u001b[1;33m\u001b[0m\u001b[1;33m\u001b[0m\u001b[1;33m\u001b[0m\u001b[0m\n\u001b[0;32m      2\u001b[0m \u001b[1;33m\u001b[0m\u001b[0m\n\u001b[1;32m----> 3\u001b[1;33m \u001b[0mopt\u001b[0m \u001b[1;33m=\u001b[0m \u001b[0mAdam\u001b[0m\u001b[1;33m(\u001b[0m\u001b[0mlearning_rate\u001b[0m\u001b[1;33m=\u001b[0m\u001b[0mINIT_LR\u001b[0m\u001b[1;33m,\u001b[0m \u001b[0mdecay\u001b[0m\u001b[1;33m=\u001b[0m\u001b[0mINIT_LR\u001b[0m \u001b[1;33m/\u001b[0m \u001b[0mEPOCHS\u001b[0m\u001b[1;33m)\u001b[0m\u001b[1;33m\u001b[0m\u001b[1;33m\u001b[0m\u001b[0m\n\u001b[0m\u001b[0;32m      4\u001b[0m \u001b[0mmodel\u001b[0m\u001b[1;33m.\u001b[0m\u001b[0mcompile\u001b[0m\u001b[1;33m(\u001b[0m\u001b[0mloss\u001b[0m\u001b[1;33m=\u001b[0m\u001b[1;34m\"sparse_categorical_crossentropy\"\u001b[0m\u001b[1;33m,\u001b[0m \u001b[0moptimizer\u001b[0m\u001b[1;33m=\u001b[0m \u001b[0mopt\u001b[0m\u001b[1;33m,\u001b[0m \u001b[0mmetrics\u001b[0m\u001b[1;33m=\u001b[0m\u001b[1;33m[\u001b[0m\u001b[1;34m\"accuracy\"\u001b[0m\u001b[1;33m]\u001b[0m\u001b[1;33m)\u001b[0m\u001b[1;33m\u001b[0m\u001b[1;33m\u001b[0m\u001b[0m\n",
      "\u001b[1;31mNameError\u001b[0m: name 'Adam' is not defined"
     ]
    }
   ],
   "source": [
    "# compile our model\n",
    "\n",
    "opt = Adam(learning_rate=INIT_LR, decay=INIT_LR / EPOCHS)\n",
    "model.compile(loss=\"categorical_crossentropy\", optimizer= opt, metrics=[\"accuracy\"])"
   ]
  },
  {
   "cell_type": "code",
   "execution_count": 23,
   "id": "573df549",
   "metadata": {},
   "outputs": [],
   "source": [
    "label = to_categorical(label, 3)\n",
    "tlabel = to_categorical(tlabel, 3)"
   ]
  },
  {
   "cell_type": "code",
   "execution_count": 27,
   "id": "45b68a01",
   "metadata": {},
   "outputs": [
    {
     "name": "stderr",
     "output_type": "stream",
     "text": [
      "C:\\Users\\Mohamed Ashraf\\anaconda3\\envs\\tensorflow\\lib\\site-packages\\tensorflow\\python\\data\\ops\\structured_function.py:264: UserWarning: Even though the `tf.config.experimental_run_functions_eagerly` option is set, this option does not apply to tf.data functions. To force eager execution of tf.data functions, please use `tf.data.experimental.enable_debug_mode()`.\n",
      "  warnings.warn(\n"
     ]
    },
    {
     "name": "stdout",
     "output_type": "stream",
     "text": [
      "Epoch 1/10\n",
      "456/456 [==============================] - 1591s 3s/step - loss: 0.3903 - accuracy: 0.8432 - val_loss: 0.1558 - val_accuracy: 0.9519\n",
      "Epoch 2/10\n",
      "456/456 [==============================] - 1683s 4s/step - loss: 0.1686 - accuracy: 0.9411 - val_loss: 0.1075 - val_accuracy: 0.9642\n",
      "Epoch 3/10\n",
      "456/456 [==============================] - 1601s 4s/step - loss: 0.1282 - accuracy: 0.9545 - val_loss: 0.0891 - val_accuracy: 0.9662\n",
      "Epoch 4/10\n",
      "456/456 [==============================] - 1560s 3s/step - loss: 0.1142 - accuracy: 0.9594 - val_loss: 0.0786 - val_accuracy: 0.9737\n",
      "Epoch 5/10\n",
      "456/456 [==============================] - 1572s 3s/step - loss: 0.1005 - accuracy: 0.9635 - val_loss: 0.0772 - val_accuracy: 0.9734\n",
      "Epoch 6/10\n",
      "456/456 [==============================] - 1824s 4s/step - loss: 0.0951 - accuracy: 0.9675 - val_loss: 0.0716 - val_accuracy: 0.9730\n",
      "Epoch 7/10\n",
      "456/456 [==============================] - 1546s 3s/step - loss: 0.0840 - accuracy: 0.9718 - val_loss: 0.0672 - val_accuracy: 0.9734\n",
      "Epoch 8/10\n",
      "456/456 [==============================] - 1545s 3s/step - loss: 0.0849 - accuracy: 0.9682 - val_loss: 0.0606 - val_accuracy: 0.9758\n",
      "Epoch 9/10\n",
      "456/456 [==============================] - 1542s 3s/step - loss: 0.0792 - accuracy: 0.9710 - val_loss: 0.0598 - val_accuracy: 0.9761\n",
      "Epoch 10/10\n",
      "456/456 [==============================] - 1558s 3s/step - loss: 0.0763 - accuracy: 0.9729 - val_loss: 0.0676 - val_accuracy: 0.9734\n"
     ]
    }
   ],
   "source": [
    "# train the model\n",
    "\n",
    "H = model.fit(aug.flow(feature, label, batch_size=BS), epochs=EPOCHS, validation_data=(tfeature, tlabel))"
   ]
  },
  {
   "cell_type": "code",
   "execution_count": 30,
   "id": "8ebcde88",
   "metadata": {},
   "outputs": [
    {
     "name": "stdout",
     "output_type": "stream",
     "text": [
      "              precision    recall  f1-score   support\n",
      "\n",
      "           0       0.97      0.99      0.98       964\n",
      "           1       1.00      1.00      1.00      1000\n",
      "           2       0.99      0.97      0.98       966\n",
      "\n",
      "    accuracy                           0.99      2930\n",
      "   macro avg       0.99      0.99      0.99      2930\n",
      "weighted avg       0.99      0.99      0.99      2930\n",
      "\n"
     ]
    }
   ],
   "source": [
    "print(classification_report(tlabel.argmax(axis=1), predIdxs))"
   ]
  },
  {
   "cell_type": "code",
   "execution_count": 31,
   "id": "cb0063fc",
   "metadata": {},
   "outputs": [],
   "source": [
    "#saving the model\n",
    "\n",
    "model.save('mask_detector.h5')"
   ]
  },
  {
   "cell_type": "code",
   "execution_count": 33,
   "id": "69afb558",
   "metadata": {},
   "outputs": [
    {
     "data": {
      "image/png": "[encoded data removed]",
      "text/plain": [
       "<Figure size 432x288 with 1 Axes>"
      ]
     },
     "metadata": {},
     "output_type": "display_data"
    }
   ],
   "source": [
    "# plot the training loss and accuracy\n",
    "N = EPOCHS\n",
    "\n",
    "plt.style.use(\"ggplot\")\n",
    "plt.figure()\n",
    "plt.plot(np.arange(0, N), H.history[\"loss\"], label=\"train_loss\")\n",
    "plt.plot(np.arange(0, N), H.history[\"val_loss\"], label=\"val_loss\")\n",
    "plt.plot(np.arange(0, N), H.history[\"accuracy\"], label=\"train_acc\")\n",
    "plt.plot(np.arange(0, N), H.history[\"val_accuracy\"], label=\"val_acc\")\n",
    "plt.title(\"Training Loss and Accuracy\")\n",
    "plt.xlabel(\"Epoch #\")\n",
    "plt.ylabel(\"Loss/Accuracy\")\n",
    "plt.legend(loc=\"lower left\")\n",
    "plt.savefig(\"TrainPlot.png\")"
   ]
  }
 ],
 "metadata": {
  "kernelspec": {
   "display_name": "Python 3 (ipykernel)",
   "language": "python",
   "name": "python3"
  },
  "language_info": {
   "codemirror_mode": {
    "name": "ipython",
    "version": 3
   },
   "file_extension": ".py",
   "mimetype": "text/x-python",
   "name": "python",
   "nbconvert_exporter": "python",
   "pygments_lexer": "ipython3",
   "version": "3.8.12"
  }
 },
 "nbformat": 4,
 "nbformat_minor": 5
}
